{
 "cells": [
  {
   "cell_type": "code",
   "execution_count": 2,
   "id": "ec454b01",
   "metadata": {},
   "outputs": [],
   "source": [
    "import numpy as np\n",
    "import pandas as pd\n",
    "import matplotlib.pyplot as plt\n",
    "%matplotlib inline\n",
    "\n",
    "from os.path import join\n",
    "\n",
    "import tensorflow as tf \n",
    "from tensorflow.keras import layers, models, optimizers\n",
    "from tensorflow.keras.utils import to_categorical"
   ]
  },
  {
   "cell_type": "code",
   "execution_count": 3,
   "id": "0c2229f1",
   "metadata": {},
   "outputs": [],
   "source": [
    "datax = np.load(join('data', 'MNIST.npy'))\n",
    "datay = np.load(join('data', 'Label.npy'))"
   ]
  },
  {
   "cell_type": "code",
   "execution_count": 4,
   "id": "7e7755cf",
   "metadata": {},
   "outputs": [
    {
     "name": "stdout",
     "output_type": "stream",
     "text": [
      "최대 : 1.0, 최소 : 0.0\n"
     ]
    }
   ],
   "source": [
    "datax_reshape = datax.reshape([datax.shape[0], datax.shape[1]*datax.shape[2]])\n",
    "datax_reshape_norm = datax_reshape/255\n",
    "print('최대 : {}, 최소 : {}'.format(np.max(datax_reshape_norm), np.min(datax_reshape_norm)))"
   ]
  },
  {
   "cell_type": "code",
   "execution_count": 9,
   "id": "300dff0a",
   "metadata": {},
   "outputs": [
    {
     "name": "stdout",
     "output_type": "stream",
     "text": [
      "[5 0 4 1 9 2 1 3 1 4]\n",
      "[[0. 0. 0. 0. 0. 1. 0. 0. 0. 0.]\n",
      " [1. 0. 0. 0. 0. 0. 0. 0. 0. 0.]\n",
      " [0. 0. 0. 0. 1. 0. 0. 0. 0. 0.]\n",
      " [0. 1. 0. 0. 0. 0. 0. 0. 0. 0.]\n",
      " [0. 0. 0. 0. 0. 0. 0. 0. 0. 1.]\n",
      " [0. 0. 1. 0. 0. 0. 0. 0. 0. 0.]\n",
      " [0. 1. 0. 0. 0. 0. 0. 0. 0. 0.]\n",
      " [0. 0. 0. 1. 0. 0. 0. 0. 0. 0.]\n",
      " [0. 1. 0. 0. 0. 0. 0. 0. 0. 0.]\n",
      " [0. 0. 0. 0. 1. 0. 0. 0. 0. 0.]]\n"
     ]
    }
   ],
   "source": [
    "datay_onehot = to_categorical(datay)\n",
    "print(datay[0:10])\n",
    "print(datay_onehot[0:10,:])"
   ]
  },
  {
   "cell_type": "code",
   "execution_count": 10,
   "id": "1131216a",
   "metadata": {},
   "outputs": [],
   "source": [
    "from sklearn.model_selection import train_test_split\n",
    "trnx, tstx, trny, tsty = train_test_split(datax_reshape_norm, datay_onehot, test_size = 0.3, random_state = 111)"
   ]
  },
  {
   "cell_type": "code",
   "execution_count": 14,
   "id": "6f07c427",
   "metadata": {},
   "outputs": [
    {
     "name": "stdout",
     "output_type": "stream",
     "text": [
      "ERROR! Session/line number was not unique in database. History logging moved to new session 37\n",
      "Model: \"model_17\"\n",
      "_________________________________________________________________\n",
      "Layer (type)                 Output Shape              Param #   \n",
      "=================================================================\n",
      "input_18 (InputLayer)        [(None, 784)]             0         \n",
      "_________________________________________________________________\n",
      "dense_68 (Dense)             (None, 800)               628000    \n",
      "_________________________________________________________________\n",
      "dense_69 (Dense)             (None, 1000)              801000    \n",
      "_________________________________________________________________\n",
      "dense_70 (Dense)             (None, 500)               500500    \n",
      "_________________________________________________________________\n",
      "dense_71 (Dense)             (None, 10)                5010      \n",
      "=================================================================\n",
      "Total params: 1,934,510\n",
      "Trainable params: 1,934,510\n",
      "Non-trainable params: 0\n",
      "_________________________________________________________________\n"
     ]
    }
   ],
   "source": [
    "input_shape = (datax_reshape_norm.shape[1],)\n",
    "\n",
    "visible = layers.Input(shape = input_shape)\n",
    "hidden1 = layers.Dense(800, activation='relu')(visible)\n",
    "hidden2 = layers.Dense(1000, activation='relu')(hidden1)\n",
    "hidden3 = layers.Dense(500, activation='relu')(hidden2)\n",
    "output = layers.Dense(10, activation='softmax')(hidden3)\n",
    "\n",
    "mlp_function = models.Model(visible, output)\n",
    "\n",
    "mlp_function.summary()"
   ]
  },
  {
   "cell_type": "code",
   "execution_count": 16,
   "id": "38e23d80",
   "metadata": {},
   "outputs": [],
   "source": [
    "mlp_function.compile(optimizer = 'RMSprop', loss = 'categorical_crossentropy', metrics = ['accuracy'])"
   ]
  },
  {
   "cell_type": "code",
   "execution_count": 17,
   "id": "55b9c2d8",
   "metadata": {},
   "outputs": [
    {
     "name": "stdout",
     "output_type": "stream",
     "text": [
      "ERROR! Session/line number was not unique in database. History logging moved to new session 41\n",
      "Train on 42000 samples, validate on 18000 samples\n",
      "Epoch 1/10\n"
     ]
    },
    {
     "name": "stderr",
     "output_type": "stream",
     "text": [
      "2022-05-04 09:18:03.051108: I tensorflow/stream_executor/platform/default/dso_loader.cc:44] Successfully opened dynamic library libcublas.so.10\n"
     ]
    },
    {
     "name": "stdout",
     "output_type": "stream",
     "text": [
      "42000/42000 [==============================] - 69s 2ms/sample - loss: 0.3529 - accuracy: 0.9196 - val_loss: 0.4672 - val_accuracy: 0.9455\n",
      "Epoch 2/10\n",
      "42000/42000 [==============================] - 12s 287us/sample - loss: 0.2889 - accuracy: 0.9502 - val_loss: 0.2793 - val_accuracy: 0.9542\n",
      "Epoch 3/10\n",
      "42000/42000 [==============================] - 10s 235us/sample - loss: 0.2816 - accuracy: 0.9579 - val_loss: 0.2501 - val_accuracy: 0.9643\n",
      "Epoch 4/10\n",
      "42000/42000 [==============================] - 8s 196us/sample - loss: 0.2654 - accuracy: 0.9633 - val_loss: 0.3815 - val_accuracy: 0.9622\n",
      "Epoch 5/10\n",
      "42000/42000 [==============================] - 13s 314us/sample - loss: 0.2524 - accuracy: 0.9690 - val_loss: 0.6230 - val_accuracy: 0.9624\n",
      "Epoch 6/10\n",
      "42000/42000 [==============================] - 12s 290us/sample - loss: 0.2346 - accuracy: 0.9715 - val_loss: 0.3941 - val_accuracy: 0.9628\n",
      "Epoch 7/10\n",
      "42000/42000 [==============================] - 11s 272us/sample - loss: 0.2221 - accuracy: 0.9760 - val_loss: 0.5909 - val_accuracy: 0.9608\n",
      "Epoch 8/10\n",
      "42000/42000 [==============================] - 12s 277us/sample - loss: 0.2095 - accuracy: 0.9777 - val_loss: 0.7741 - val_accuracy: 0.9651\n",
      "Epoch 9/10\n",
      "42000/42000 [==============================] - 11s 267us/sample - loss: 0.2184 - accuracy: 0.9804 - val_loss: 0.6692 - val_accuracy: 0.9672\n",
      "Epoch 10/10\n",
      "42000/42000 [==============================] - 9s 224us/sample - loss: 0.2161 - accuracy: 0.9809 - val_loss: 0.6223 - val_accuracy: 0.9687\n"
     ]
    }
   ],
   "source": [
    "history = mlp_function.fit(trnx, trny, validation_data = [tstx, tsty], batch_size = 10, epochs = 10)"
   ]
  },
  {
   "cell_type": "code",
   "execution_count": 18,
   "id": "46b1ede8",
   "metadata": {},
   "outputs": [
    {
     "data": {
      "image/png": "[encoded data removed]",
      "text/plain": [
       "<Figure size 432x288 with 1 Axes>"
      ]
     },
     "metadata": {
      "needs_background": "light"
     },
     "output_type": "display_data"
    },
    {
     "data": {
      "image/png": "[encoded data removed]",
      "text/plain": [
       "<Figure size 432x288 with 1 Axes>"
      ]
     },
     "metadata": {
      "needs_background": "light"
     },
     "output_type": "display_data"
    },
    {
     "name": "stdout",
     "output_type": "stream",
     "text": [
      "0.9686667\n",
      "0.9686667\n"
     ]
    }
   ],
   "source": [
    "plt.plot(history.history['accuracy'])\n",
    "plt.plot(history.history['val_accuracy'])\n",
    "plt.title('model accuracy')\n",
    "plt.ylabel('accuracy')\n",
    "plt.xlabel('epoch')\n",
    "plt.legend(['train', 'test'], loc='upper left')\n",
    "plt.show()\n",
    "\n",
    "plt.plot(history.history['loss'])\n",
    "plt.plot(history.history['val_loss'])\n",
    "plt.title('model loss')\n",
    "plt.ylabel('loss')\n",
    "plt.xlabel('epoch')\n",
    "plt.legend(['train', 'test'], loc='upper left')\n",
    "plt.show()\n",
    "\n",
    "print(history.history['val_accuracy'][-1])\n",
    "print(np.max(history.history['val_accuracy']))"
   ]
  }
 ],
 "metadata": {
  "kernelspec": {
   "display_name": "Python 3 (ipykernel)",
   "language": "python",
   "name": "python3"
  },
  "language_info": {
   "codemirror_mode": {
    "name": "ipython",
    "version": 3
   },
   "file_extension": ".py",
   "mimetype": "text/x-python",
   "name": "python",
   "nbconvert_exporter": "python",
   "pygments_lexer": "ipython3",
   "version": "3.9.12"
  }
 },
 "nbformat": 4,
 "nbformat_minor": 5
}
