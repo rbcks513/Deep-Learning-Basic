{
 "cells": [
  {
   "cell_type": "code",
   "execution_count": 1,
   "id": "1dea314a",
   "metadata": {},
   "outputs": [],
   "source": [
    "import numpy as np\n",
    "import pandas as pd\n",
    "import matplotlib.pyplot as plt\n",
    "%matplotlib inline\n",
    "\n",
    "from os.path import join\n",
    "\n",
    "import tensorflow as tf \n",
    "from tensorflow.keras import layers, models, optimizers\n",
    "from tensorflow.keras.utils import to_categorical"
   ]
  },
  {
   "cell_type": "code",
   "execution_count": 2,
   "id": "49d49253",
   "metadata": {},
   "outputs": [],
   "source": [
    "datax = np.load(join('data', 'MNIST.npy'))\n",
    "datay = np.load(join('data', 'Label.npy'))"
   ]
  },
  {
   "cell_type": "code",
   "execution_count": 3,
   "id": "4fffbaee",
   "metadata": {},
   "outputs": [
    {
     "name": "stdout",
     "output_type": "stream",
     "text": [
      "최대 : 1.0, 최소 : 0.0\n"
     ]
    }
   ],
   "source": [
    "datax_norm = datax/255\n",
    "print('최대 : {}, 최소 : {}'.format(np.max(datax_norm), np.min(datax_norm)))"
   ]
  },
  {
   "cell_type": "code",
   "execution_count": 4,
   "id": "fec843e9",
   "metadata": {},
   "outputs": [],
   "source": [
    "datax_reshape = datax_norm.reshape([60000, 28*28])"
   ]
  },
  {
   "cell_type": "code",
   "execution_count": 5,
   "id": "6a1cc14d",
   "metadata": {},
   "outputs": [
    {
     "name": "stderr",
     "output_type": "stream",
     "text": [
      "2022-05-17 16:13:24.341555: I tensorflow/stream_executor/cuda/cuda_gpu_executor.cc:936] successful NUMA node read from SysFS had negative value (-1), but there must be at least one NUMA node, so returning NUMA node zero\n",
      "2022-05-17 16:13:24.364197: I tensorflow/stream_executor/cuda/cuda_gpu_executor.cc:936] successful NUMA node read from SysFS had negative value (-1), but there must be at least one NUMA node, so returning NUMA node zero\n",
      "2022-05-17 16:13:24.364277: I tensorflow/stream_executor/cuda/cuda_gpu_executor.cc:936] successful NUMA node read from SysFS had negative value (-1), but there must be at least one NUMA node, so returning NUMA node zero\n",
      "2022-05-17 16:13:24.364647: I tensorflow/core/platform/cpu_feature_guard.cc:151] This TensorFlow binary is optimized with oneAPI Deep Neural Network Library (oneDNN) to use the following CPU instructions in performance-critical operations:  AVX2 FMA\n",
      "To enable them in other operations, rebuild TensorFlow with the appropriate compiler flags.\n",
      "2022-05-17 16:13:24.365027: I tensorflow/stream_executor/cuda/cuda_gpu_executor.cc:936] successful NUMA node read from SysFS had negative value (-1), but there must be at least one NUMA node, so returning NUMA node zero\n",
      "2022-05-17 16:13:24.365098: I tensorflow/stream_executor/cuda/cuda_gpu_executor.cc:936] successful NUMA node read from SysFS had negative value (-1), but there must be at least one NUMA node, so returning NUMA node zero\n",
      "2022-05-17 16:13:24.365152: I tensorflow/stream_executor/cuda/cuda_gpu_executor.cc:936] successful NUMA node read from SysFS had negative value (-1), but there must be at least one NUMA node, so returning NUMA node zero\n",
      "2022-05-17 16:13:24.615521: I tensorflow/stream_executor/cuda/cuda_gpu_executor.cc:936] successful NUMA node read from SysFS had negative value (-1), but there must be at least one NUMA node, so returning NUMA node zero\n",
      "2022-05-17 16:13:24.615614: I tensorflow/stream_executor/cuda/cuda_gpu_executor.cc:936] successful NUMA node read from SysFS had negative value (-1), but there must be at least one NUMA node, so returning NUMA node zero\n",
      "2022-05-17 16:13:24.615665: I tensorflow/stream_executor/cuda/cuda_gpu_executor.cc:936] successful NUMA node read from SysFS had negative value (-1), but there must be at least one NUMA node, so returning NUMA node zero\n",
      "2022-05-17 16:13:24.615717: I tensorflow/core/common_runtime/gpu/gpu_device.cc:1525] Created device /job:localhost/replica:0/task:0/device:GPU:0 with 5798 MB memory:  -> device: 0, name: NVIDIA GeForce RTX 3050, pci bus id: 0000:01:00.0, compute capability: 8.6\n"
     ]
    }
   ],
   "source": [
    "#input\n",
    "input_shape = (28*28,)\n",
    "input_tensor = layers.Input(input_shape)\n",
    "\n",
    "#encoder\n",
    "encoder1 = layers.Dense(300, activation='relu')(input_tensor)\n",
    "encoder2 = layers.Dense(100, activation='relu')(encoder1)\n",
    "\n",
    "latent_tensor = encoder2\n",
    "\n",
    "##eecoder\n",
    "decoder1 = layers.Dense(300, activation=\"relu\")(latent_tensor)\n",
    "\n",
    "\n",
    "#Outputs\n",
    "reconstruction_output = layers.Dense(28*28, activation='relu')(decoder1) "
   ]
  },
  {
   "cell_type": "code",
   "execution_count": 6,
   "id": "0ea7c257",
   "metadata": {},
   "outputs": [],
   "source": [
    "ae = models.Model(input_tensor, reconstruction_output)\n",
    "ae.compile(optimizer = 'Adam', loss = 'mse')"
   ]
  },
  {
   "cell_type": "code",
   "execution_count": 7,
   "id": "e9bef2e9",
   "metadata": {},
   "outputs": [
    {
     "name": "stdout",
     "output_type": "stream",
     "text": [
      "Model: \"model\"\n",
      "_________________________________________________________________\n",
      " Layer (type)                Output Shape              Param #   \n",
      "=================================================================\n",
      " input_1 (InputLayer)        [(None, 784)]             0         \n",
      "                                                                 \n",
      " dense (Dense)               (None, 300)               235500    \n",
      "                                                                 \n",
      " dense_1 (Dense)             (None, 100)               30100     \n",
      "                                                                 \n",
      " dense_2 (Dense)             (None, 300)               30300     \n",
      "                                                                 \n",
      " dense_3 (Dense)             (None, 784)               235984    \n",
      "                                                                 \n",
      "=================================================================\n",
      "Total params: 531,884\n",
      "Trainable params: 531,884\n",
      "Non-trainable params: 0\n",
      "_________________________________________________________________\n"
     ]
    }
   ],
   "source": [
    "ae.summary()"
   ]
  },
  {
   "cell_type": "code",
   "execution_count": 8,
   "id": "ca3b4353",
   "metadata": {},
   "outputs": [
    {
     "name": "stdout",
     "output_type": "stream",
     "text": [
      "Epoch 1/10\n"
     ]
    },
    {
     "name": "stderr",
     "output_type": "stream",
     "text": [
      "2022-05-17 16:13:25.599650: I tensorflow/stream_executor/cuda/cuda_blas.cc:1786] TensorFloat-32 will be used for the matrix multiplication. This will only be logged once.\n"
     ]
    },
    {
     "name": "stdout",
     "output_type": "stream",
     "text": [
      "59/59 - 1s - loss: 0.0492 - 796ms/epoch - 13ms/step\n",
      "Epoch 2/10\n",
      "59/59 - 0s - loss: 0.0185 - 443ms/epoch - 8ms/step\n",
      "Epoch 3/10\n",
      "59/59 - 0s - loss: 0.0130 - 338ms/epoch - 6ms/step\n",
      "Epoch 4/10\n",
      "59/59 - 0s - loss: 0.0111 - 243ms/epoch - 4ms/step\n",
      "Epoch 5/10\n",
      "59/59 - 0s - loss: 0.0100 - 223ms/epoch - 4ms/step\n",
      "Epoch 6/10\n",
      "59/59 - 0s - loss: 0.0094 - 245ms/epoch - 4ms/step\n",
      "Epoch 7/10\n",
      "59/59 - 0s - loss: 0.0089 - 240ms/epoch - 4ms/step\n",
      "Epoch 8/10\n",
      "59/59 - 0s - loss: 0.0085 - 363ms/epoch - 6ms/step\n",
      "Epoch 9/10\n",
      "59/59 - 0s - loss: 0.0082 - 369ms/epoch - 6ms/step\n",
      "Epoch 10/10\n",
      "59/59 - 0s - loss: 0.0080 - 326ms/epoch - 6ms/step\n"
     ]
    },
    {
     "data": {
      "text/plain": [
       "<keras.callbacks.History at 0x7fd201951e80>"
      ]
     },
     "execution_count": 8,
     "metadata": {},
     "output_type": "execute_result"
    }
   ],
   "source": [
    "#parameter\n",
    "epoch = 10\n",
    "batch_size = 1024\n",
    "ae.fit(datax_reshape, datax_reshape, batch_size =batch_size, epochs = epoch, verbose = 2)"
   ]
  },
  {
   "cell_type": "code",
   "execution_count": 9,
   "id": "c06b7ddd",
   "metadata": {},
   "outputs": [
    {
     "data": {
      "text/plain": [
       "<matplotlib.image.AxesImage at 0x7fd2002f6220>"
      ]
     },
     "execution_count": 9,
     "metadata": {},
     "output_type": "execute_result"
    },
    {
     "data": {
      "image/png": "[encoded data removed]",
      "text/plain": [
       "<Figure size 432x288 with 1 Axes>"
      ]
     },
     "metadata": {
      "needs_background": "light"
     },
     "output_type": "display_data"
    }
   ],
   "source": [
    "#원본 데이터 \n",
    "plt.imshow(datax_reshape[0].reshape(28,28))"
   ]
  },
  {
   "cell_type": "code",
   "execution_count": 10,
   "id": "3ac3da53",
   "metadata": {},
   "outputs": [
    {
     "data": {
      "text/plain": [
       "<matplotlib.image.AxesImage at 0x7fd1dc57d0d0>"
      ]
     },
     "execution_count": 10,
     "metadata": {},
     "output_type": "execute_result"
    },
    {
     "data": {
      "image/png": "[encoded data removed]",
      "text/plain": [
       "<Figure size 432x288 with 1 Axes>"
      ]
     },
     "metadata": {
      "needs_background": "light"
     },
     "output_type": "display_data"
    }
   ],
   "source": [
    "#데이터를 모델에 넣고 복원\n",
    "decoded_img = ae.predict(datax_reshape[0].reshape(1, 28*28))\n",
    "decoded_img = decoded_img.reshape(28,28)\n",
    "\n",
    "#복원된 데이터 확인\n",
    "plt.imshow(decoded_img)"
   ]
  },
  {
   "cell_type": "code",
   "execution_count": 11,
   "id": "11b68d61",
   "metadata": {},
   "outputs": [
    {
     "data": {
      "text/plain": [
       "0.2296786822075151"
      ]
     },
     "execution_count": 11,
     "metadata": {},
     "output_type": "execute_result"
    }
   ],
   "source": [
    "#novelty detector\n",
    "np.mean(np.abs(datax_reshape[0] - decoded_img.reshape(784,1)))\n",
    "\n",
    "## its mean is error accuring when the model reconstructs data"
   ]
  },
  {
   "cell_type": "code",
   "execution_count": 12,
   "id": "d4858bed",
   "metadata": {},
   "outputs": [],
   "source": [
    "random_vector = np.random.rand(784, 1)"
   ]
  },
  {
   "cell_type": "code",
   "execution_count": 13,
   "id": "4f7f0bc9",
   "metadata": {},
   "outputs": [
    {
     "data": {
      "text/plain": [
       "<matplotlib.image.AxesImage at 0x7fd1dc50a130>"
      ]
     },
     "execution_count": 13,
     "metadata": {},
     "output_type": "execute_result"
    },
    {
     "data": {
      "image/png": "[encoded data removed]",
      "text/plain": [
       "<Figure size 432x288 with 1 Axes>"
      ]
     },
     "metadata": {
      "needs_background": "light"
     },
     "output_type": "display_data"
    }
   ],
   "source": [
    "#데이터를 모델에 넣고 복우너시킵니다.\n",
    "decoded_img = ae.predict(random_vector.reshape(1, 28*28))\n",
    "decoded_img = decoded_img.reshape(28, 28)\n",
    "\n",
    "#복원된 데이터 확인\n",
    "plt.imshow(decoded_img)"
   ]
  },
  {
   "cell_type": "code",
   "execution_count": 14,
   "id": "79e1591f",
   "metadata": {},
   "outputs": [
    {
     "data": {
      "text/plain": [
       "0.4731503343706794"
      ]
     },
     "execution_count": 14,
     "metadata": {},
     "output_type": "execute_result"
    }
   ],
   "source": [
    "np.mean(np.abs(random_vector - decoded_img.reshape(784,1)))\n",
    "#its mean is this data is not trained data and higher MAE than trained data\n",
    "# aply ->  we can set cut-off score like these situations normals have under 0.22 or novelties have over 0.45 "
   ]
  },
  {
   "cell_type": "code",
   "execution_count": 15,
   "id": "6f2a2073",
   "metadata": {},
   "outputs": [
    {
     "name": "stdout",
     "output_type": "stream",
     "text": [
      "최대 : 1.0, 최소 : 0.0\n"
     ]
    }
   ],
   "source": [
    "#CAE\n",
    "datax_reshape = datax_norm.reshape((-1, 28, 28, 1))\n",
    "print('최대 : {}, 최소 : {}'.format(np.max(datax_norm), np.min(datax_norm)))"
   ]
  },
  {
   "cell_type": "code",
   "execution_count": 16,
   "id": "b7d64346",
   "metadata": {},
   "outputs": [],
   "source": [
    "## input\n",
    "input_shape = (28, 28, 1)\n",
    "input_tensor = layers.Input(input_shape)\n",
    "\n",
    "## encoder\n",
    "conv1 = layers.Conv2D(1, (3,3), padding='same', activation='relu')(input_tensor)\n",
    "pooling1 = layers.MaxPool2D(name='imlatent_layer')(conv1)\n",
    "\n",
    "flatten1 = layers.Flatten()(pooling1)\n",
    "\n",
    "latent_tensor = flatten1\n",
    "\n",
    "## Decoding\n",
    "reshaped = tf.reshape(latent_tensor, [-1,14,14,1])\n",
    "\n",
    "upsample2 = layers.UpSampling2D()(reshaped)\n",
    "deconv2 = layers.Conv2DTranspose(1, (3,3), padding = 'same', activation='sigmoid')(upsample2 )\n",
    "\n",
    "#outputs\n",
    "output_tensor = deconv2"
   ]
  },
  {
   "cell_type": "code",
   "execution_count": 17,
   "id": "6015e4a9",
   "metadata": {},
   "outputs": [],
   "source": [
    "ae = models.Model(input_tensor, output_tensor)\n",
    "ae.compile(optimizer = 'Adam', loss = 'mse')"
   ]
  },
  {
   "cell_type": "code",
   "execution_count": 18,
   "id": "db80a177",
   "metadata": {},
   "outputs": [
    {
     "name": "stdout",
     "output_type": "stream",
     "text": [
      "Model: \"model_1\"\n",
      "_________________________________________________________________\n",
      " Layer (type)                Output Shape              Param #   \n",
      "=================================================================\n",
      " input_2 (InputLayer)        [(None, 28, 28, 1)]       0         \n",
      "                                                                 \n",
      " conv2d (Conv2D)             (None, 28, 28, 1)         10        \n",
      "                                                                 \n",
      " imlatent_layer (MaxPooling2  (None, 14, 14, 1)        0         \n",
      " D)                                                              \n",
      "                                                                 \n",
      " flatten (Flatten)           (None, 196)               0         \n",
      "                                                                 \n",
      " tf.reshape (TFOpLambda)     (None, 14, 14, 1)         0         \n",
      "                                                                 \n",
      " up_sampling2d (UpSampling2D  (None, 28, 28, 1)        0         \n",
      " )                                                               \n",
      "                                                                 \n",
      " conv2d_transpose (Conv2DTra  (None, 28, 28, 1)        10        \n",
      " nspose)                                                         \n",
      "                                                                 \n",
      "=================================================================\n",
      "Total params: 20\n",
      "Trainable params: 20\n",
      "Non-trainable params: 0\n",
      "_________________________________________________________________\n"
     ]
    }
   ],
   "source": [
    "ae.summary()"
   ]
  },
  {
   "cell_type": "code",
   "execution_count": 19,
   "id": "51a0c160",
   "metadata": {},
   "outputs": [
    {
     "name": "stdout",
     "output_type": "stream",
     "text": [
      "Epoch 1/10\n"
     ]
    },
    {
     "name": "stderr",
     "output_type": "stream",
     "text": [
      "2022-05-17 16:13:29.868374: I tensorflow/stream_executor/cuda/cuda_dnn.cc:368] Loaded cuDNN version 8400\n"
     ]
    },
    {
     "name": "stdout",
     "output_type": "stream",
     "text": [
      "59/59 - 1s - loss: 0.2153 - 1s/epoch - 24ms/step\n",
      "Epoch 2/10\n",
      "59/59 - 0s - loss: 0.1878 - 187ms/epoch - 3ms/step\n",
      "Epoch 3/10\n",
      "59/59 - 0s - loss: 0.1478 - 400ms/epoch - 7ms/step\n",
      "Epoch 4/10\n",
      "59/59 - 0s - loss: 0.1073 - 445ms/epoch - 8ms/step\n",
      "Epoch 5/10\n",
      "59/59 - 0s - loss: 0.0798 - 170ms/epoch - 3ms/step\n",
      "Epoch 6/10\n",
      "59/59 - 0s - loss: 0.0648 - 263ms/epoch - 4ms/step\n",
      "Epoch 7/10\n",
      "59/59 - 0s - loss: 0.0568 - 163ms/epoch - 3ms/step\n",
      "Epoch 8/10\n",
      "59/59 - 0s - loss: 0.0520 - 208ms/epoch - 4ms/step\n",
      "Epoch 9/10\n",
      "59/59 - 0s - loss: 0.0490 - 404ms/epoch - 7ms/step\n",
      "Epoch 10/10\n",
      "59/59 - 0s - loss: 0.0468 - 279ms/epoch - 5ms/step\n"
     ]
    },
    {
     "data": {
      "text/plain": [
       "<keras.callbacks.History at 0x7fd1dc4d4c40>"
      ]
     },
     "execution_count": 19,
     "metadata": {},
     "output_type": "execute_result"
    }
   ],
   "source": [
    "epoch = 10\n",
    "batch_size = 1024\n",
    "ae.fit(datax_reshape, datax_reshape, \n",
    "       batch_size = batch_size, \n",
    "       epochs = epoch, \n",
    "       verbose =2)"
   ]
  },
  {
   "cell_type": "code",
   "execution_count": 20,
   "id": "2b2249dd",
   "metadata": {},
   "outputs": [
    {
     "data": {
      "text/plain": [
       "<matplotlib.image.AxesImage at 0x7fd220d59a30>"
      ]
     },
     "execution_count": 20,
     "metadata": {},
     "output_type": "execute_result"
    },
    {
     "data": {
      "image/png": "[encoded data removed]",
      "text/plain": [
       "<Figure size 432x288 with 1 Axes>"
      ]
     },
     "metadata": {
      "needs_background": "light"
     },
     "output_type": "display_data"
    }
   ],
   "source": [
    "#원본 데이터 확인\n",
    "plt.imshow(datax_reshape[10].reshape(28,28))"
   ]
  },
  {
   "cell_type": "code",
   "execution_count": 21,
   "id": "c714da14",
   "metadata": {},
   "outputs": [
    {
     "data": {
      "text/plain": [
       "(28, 28, 1)"
      ]
     },
     "execution_count": 21,
     "metadata": {},
     "output_type": "execute_result"
    }
   ],
   "source": [
    "datax_reshape[10].shape"
   ]
  },
  {
   "cell_type": "code",
   "execution_count": 22,
   "id": "9b0e329d",
   "metadata": {},
   "outputs": [
    {
     "data": {
      "text/plain": [
       "<matplotlib.image.AxesImage at 0x7fd1dc3ac190>"
      ]
     },
     "execution_count": 22,
     "metadata": {},
     "output_type": "execute_result"
    },
    {
     "data": {
      "image/png": "[encoded data removed]",
      "text/plain": [
       "<Figure size 432x288 with 1 Axes>"
      ]
     },
     "metadata": {
      "needs_background": "light"
     },
     "output_type": "display_data"
    }
   ],
   "source": [
    "#데이터 복원\n",
    "decoded_img = ae.predict(datax_reshape[10].reshape(1, 28,28,1))\n",
    "decoded_img = decoded_img.reshape(28, 28)\n",
    "\n",
    "plt.imshow(decoded_img)"
   ]
  },
  {
   "cell_type": "code",
   "execution_count": 23,
   "id": "ee2cf4e5",
   "metadata": {},
   "outputs": [],
   "source": [
    "intermediate_layer_model = models.Model(inputs=ae.input, outputs=ae.get_layer('imlatent_layer').output)\n",
    "intermediate_output = intermediate_layer_model.predict(datax_reshape[10].reshape(1, 28,28, 1))"
   ]
  },
  {
   "cell_type": "code",
   "execution_count": 24,
   "id": "866085f9",
   "metadata": {},
   "outputs": [],
   "source": [
    "latent_vector = np.array(intermediate_output)"
   ]
  },
  {
   "cell_type": "code",
   "execution_count": 25,
   "id": "1af152b5",
   "metadata": {},
   "outputs": [
    {
     "data": {
      "text/plain": [
       "<matplotlib.image.AxesImage at 0x7fd1dc31a7c0>"
      ]
     },
     "execution_count": 25,
     "metadata": {},
     "output_type": "execute_result"
    },
    {
     "data": {
      "image/png": "[encoded data removed]",
      "text/plain": [
       "<Figure size 432x288 with 1 Axes>"
      ]
     },
     "metadata": {
      "needs_background": "light"
     },
     "output_type": "display_data"
    }
   ],
   "source": [
    "plt.imshow(latent_vector.reshape(14,14))"
   ]
  },
  {
   "cell_type": "code",
   "execution_count": 26,
   "id": "882e5f57",
   "metadata": {},
   "outputs": [
    {
     "data": {
      "text/plain": [
       "0.22739680638163173"
      ]
     },
     "execution_count": 26,
     "metadata": {},
     "output_type": "execute_result"
    }
   ],
   "source": [
    "np.mean(np.abs(datax_reshape[10] - decoded_img.reshape(28,28)))"
   ]
  },
  {
   "cell_type": "code",
   "execution_count": 27,
   "id": "4554b0ba",
   "metadata": {},
   "outputs": [
    {
     "data": {
      "text/plain": [
       "<matplotlib.image.AxesImage at 0x7fd1dc2ecc70>"
      ]
     },
     "execution_count": 27,
     "metadata": {},
     "output_type": "execute_result"
    },
    {
     "data": {
      "image/png": "[encoded data removed]",
      "text/plain": [
       "<Figure size 432x288 with 1 Axes>"
      ]
     },
     "metadata": {
      "needs_background": "light"
     },
     "output_type": "display_data"
    }
   ],
   "source": [
    "random_vector = np.random.rand(28, 28)\n",
    "plt.imshow(random_vector)"
   ]
  },
  {
   "cell_type": "code",
   "execution_count": 28,
   "id": "c7f873de",
   "metadata": {},
   "outputs": [
    {
     "data": {
      "text/plain": [
       "<matplotlib.image.AxesImage at 0x7fd1dc25c8e0>"
      ]
     },
     "execution_count": 28,
     "metadata": {},
     "output_type": "execute_result"
    },
    {
     "data": {
      "image/png": "[encoded data removed]",
      "text/plain": [
       "<Figure size 432x288 with 1 Axes>"
      ]
     },
     "metadata": {
      "needs_background": "light"
     },
     "output_type": "display_data"
    }
   ],
   "source": [
    "#데이터를 모델에 넣고 복우너시킵니다.\n",
    "decoded_img = ae.predict(random_vector.reshape(-1, 28,28 ,1))\n",
    "decoded_img = decoded_img.reshape(28, 28)\n",
    "\n",
    "#복원된 데이터 확인\n",
    "plt.imshow(decoded_img)"
   ]
  },
  {
   "cell_type": "code",
   "execution_count": 29,
   "id": "23c57dfc",
   "metadata": {},
   "outputs": [
    {
     "data": {
      "text/plain": [
       "0.2535454816651143"
      ]
     },
     "execution_count": 29,
     "metadata": {},
     "output_type": "execute_result"
    }
   ],
   "source": [
    "np.mean(np.abs(random_vector - decoded_img.reshape(28,28)))\n",
    "#its mean is this data is not trained data and higher MAE than trained data\n",
    "# aply ->  we can set cut-off score like these situations normals have under 0.22 or novelties have over 0.45 "
   ]
  },
  {
   "cell_type": "code",
   "execution_count": null,
   "id": "1c89a097",
   "metadata": {},
   "outputs": [],
   "source": []
  },
  {
   "cell_type": "code",
   "execution_count": null,
   "id": "24822b15",
   "metadata": {},
   "outputs": [],
   "source": []
  },
  {
   "cell_type": "code",
   "execution_count": null,
   "id": "8199fccc",
   "metadata": {},
   "outputs": [],
   "source": []
  },
  {
   "cell_type": "code",
   "execution_count": null,
   "id": "2f8d34b0",
   "metadata": {},
   "outputs": [],
   "source": []
  },
  {
   "cell_type": "code",
   "execution_count": null,
   "id": "fcb19a8b",
   "metadata": {},
   "outputs": [],
   "source": []
  },
  {
   "cell_type": "code",
   "execution_count": null,
   "id": "abd3b2a6",
   "metadata": {},
   "outputs": [],
   "source": []
  },
  {
   "cell_type": "code",
   "execution_count": null,
   "id": "dfc235c5",
   "metadata": {},
   "outputs": [],
   "source": []
  }
 ],
 "metadata": {
  "kernelspec": {
   "display_name": "Python 3 (ipykernel)",
   "language": "python",
   "name": "python3"
  },
  "language_info": {
   "codemirror_mode": {
    "name": "ipython",
    "version": 3
   },
   "file_extension": ".py",
   "mimetype": "text/x-python",
   "name": "python",
   "nbconvert_exporter": "python",
   "pygments_lexer": "ipython3",
   "version": "3.9.12"
  }
 },
 "nbformat": 4,
 "nbformat_minor": 5
}
