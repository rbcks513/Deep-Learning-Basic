{
 "cells": [
  {
   "cell_type": "code",
   "execution_count": 1,
   "id": "1134bc7a",
   "metadata": {},
   "outputs": [],
   "source": [
    "import csv\n",
    "import numpy as np\n",
    "import pandas as pd\n",
    "import matplotlib.pyplot as plt\n",
    "%matplotlib inline\n",
    "\n",
    "from os.path import join\n",
    "\n",
    "import tensorflow as tf \n",
    "from tensorflow.keras import layers, models, optimizers\n",
    "from tensorflow.keras.utils import to_categorical"
   ]
  },
  {
   "cell_type": "code",
   "execution_count": 4,
   "id": "b37da66c",
   "metadata": {},
   "outputs": [],
   "source": [
    "a = np.random.rand(10000,1600,4)"
   ]
  },
  {
   "cell_type": "code",
   "execution_count": 7,
   "id": "ba9ca233",
   "metadata": {},
   "outputs": [],
   "source": [
    "b = np.where(a < 0.5, 0, a)\n",
    "c = np.where(b >= 0.5, 1, b)"
   ]
  },
  {
   "cell_type": "code",
   "execution_count": 8,
   "id": "0b1bd7f5",
   "metadata": {},
   "outputs": [
    {
     "name": "stdout",
     "output_type": "stream",
     "text": [
      "[[[0. 1. 0. 0.]\n",
      "  [0. 0. 1. 1.]\n",
      "  [1. 1. 0. 1.]\n",
      "  ...\n",
      "  [0. 0. 0. 0.]\n",
      "  [1. 1. 1. 1.]\n",
      "  [0. 0. 0. 1.]]\n",
      "\n",
      " [[1. 0. 1. 0.]\n",
      "  [1. 0. 0. 0.]\n",
      "  [1. 1. 0. 0.]\n",
      "  ...\n",
      "  [1. 1. 1. 0.]\n",
      "  [0. 1. 1. 1.]\n",
      "  [0. 0. 0. 1.]]\n",
      "\n",
      " [[0. 0. 0. 0.]\n",
      "  [0. 0. 1. 1.]\n",
      "  [1. 0. 0. 1.]\n",
      "  ...\n",
      "  [0. 1. 0. 1.]\n",
      "  [1. 1. 0. 1.]\n",
      "  [1. 1. 1. 0.]]\n",
      "\n",
      " ...\n",
      "\n",
      " [[1. 0. 1. 0.]\n",
      "  [1. 0. 0. 0.]\n",
      "  [0. 1. 1. 0.]\n",
      "  ...\n",
      "  [1. 0. 1. 0.]\n",
      "  [0. 1. 1. 1.]\n",
      "  [1. 1. 0. 1.]]\n",
      "\n",
      " [[0. 0. 0. 1.]\n",
      "  [1. 1. 1. 0.]\n",
      "  [0. 0. 1. 0.]\n",
      "  ...\n",
      "  [1. 0. 1. 0.]\n",
      "  [0. 0. 0. 0.]\n",
      "  [1. 0. 0. 0.]]\n",
      "\n",
      " [[0. 1. 1. 0.]\n",
      "  [1. 1. 0. 1.]\n",
      "  [1. 1. 0. 0.]\n",
      "  ...\n",
      "  [1. 0. 0. 0.]\n",
      "  [1. 0. 0. 0.]\n",
      "  [0. 1. 1. 1.]]]\n"
     ]
    }
   ],
   "source": [
    "print(c)"
   ]
  },
  {
   "cell_type": "code",
   "execution_count": 9,
   "id": "49d7c767",
   "metadata": {},
   "outputs": [],
   "source": [
    "np.save('RandomData01.npy',c)"
   ]
  }
 ],
 "metadata": {
  "kernelspec": {
   "display_name": "Python 3 (ipykernel)",
   "language": "python",
   "name": "python3"
  },
  "language_info": {
   "codemirror_mode": {
    "name": "ipython",
    "version": 3
   },
   "file_extension": ".py",
   "mimetype": "text/x-python",
   "name": "python",
   "nbconvert_exporter": "python",
   "pygments_lexer": "ipython3",
   "version": "3.9.12"
  }
 },
 "nbformat": 4,
 "nbformat_minor": 5
}
