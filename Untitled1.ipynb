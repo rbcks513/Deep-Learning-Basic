{
 "cells": [
  {
   "cell_type": "code",
   "execution_count": 1,
   "id": "27865fe0",
   "metadata": {},
   "outputs": [],
   "source": [
    "import numpy as np\n",
    "import pandas as pd\n",
    "import matplotlib.pyplot as plt\n",
    "%matplotlib inline\n",
    "\n",
    "from os.path import join\n",
    "\n",
    "import tensorflow as tf \n",
    "from tensorflow.keras import layers, models, optimizers\n",
    "from tensorflow.keras.utils import to_categorical"
   ]
  },
  {
   "cell_type": "code",
   "execution_count": 2,
   "id": "53ff02d7",
   "metadata": {},
   "outputs": [],
   "source": [
    "datax = np.load(join('data', 'MNIST.npy'))\n",
    "datay = np.load(join('data', 'Label.npy'))"
   ]
  },
  {
   "cell_type": "code",
   "execution_count": 3,
   "id": "1c9be5ea",
   "metadata": {},
   "outputs": [
    {
     "name": "stdout",
     "output_type": "stream",
     "text": [
      "최대 : 1.0, 최소 : 0.0\n"
     ]
    }
   ],
   "source": [
    "datax_reshape = datax.reshape([datax.shape[0], datax.shape[1]*datax.shape[2]])\n",
    "datax_reshape_norm = datax_reshape/255\n",
    "print('최대 : {}, 최소 : {}'.format(np.max(datax_reshape_norm), np.min(datax_reshape_norm)))"
   ]
  },
  {
   "cell_type": "code",
   "execution_count": 4,
   "id": "ea5e0ef0",
   "metadata": {},
   "outputs": [
    {
     "name": "stdout",
     "output_type": "stream",
     "text": [
      "[5 0 4 1 9 2 1 3 1 4]\n",
      "[[0. 0. 0. 0. 0. 1. 0. 0. 0. 0.]\n",
      " [1. 0. 0. 0. 0. 0. 0. 0. 0. 0.]\n",
      " [0. 0. 0. 0. 1. 0. 0. 0. 0. 0.]\n",
      " [0. 1. 0. 0. 0. 0. 0. 0. 0. 0.]\n",
      " [0. 0. 0. 0. 0. 0. 0. 0. 0. 1.]\n",
      " [0. 0. 1. 0. 0. 0. 0. 0. 0. 0.]\n",
      " [0. 1. 0. 0. 0. 0. 0. 0. 0. 0.]\n",
      " [0. 0. 0. 1. 0. 0. 0. 0. 0. 0.]\n",
      " [0. 1. 0. 0. 0. 0. 0. 0. 0. 0.]\n",
      " [0. 0. 0. 0. 1. 0. 0. 0. 0. 0.]]\n"
     ]
    }
   ],
   "source": [
    "datay_onehot = to_categorical(datay)\n",
    "print(datay[0:10])\n",
    "print(datay_onehot[0:10,:])"
   ]
  },
  {
   "cell_type": "code",
   "execution_count": 5,
   "id": "b2bcc017",
   "metadata": {},
   "outputs": [],
   "source": [
    "from sklearn.model_selection import train_test_split\n",
    "trnx, tstx, trny, tsty = train_test_split(datax_reshape_norm, datay_onehot, test_size = 0.3, random_state = 111)"
   ]
  },
  {
   "cell_type": "code",
   "execution_count": 6,
   "id": "53121acd",
   "metadata": {},
   "outputs": [
    {
     "name": "stderr",
     "output_type": "stream",
     "text": [
      "2022-05-04 08:44:05.525981: I tensorflow/stream_executor/platform/default/dso_loader.cc:44] Successfully opened dynamic library libcuda.so.1\n",
      "2022-05-04 08:44:05.614464: I tensorflow/stream_executor/cuda/cuda_gpu_executor.cc:981] successful NUMA node read from SysFS had negative value (-1), but there must be at least one NUMA node, so returning NUMA node zero\n",
      "2022-05-04 08:44:05.614660: I tensorflow/core/common_runtime/gpu/gpu_device.cc:1555] Found device 0 with properties: \n",
      "pciBusID: 0000:01:00.0 name: NVIDIA GeForce RTX 3050 computeCapability: 8.6\n",
      "coreClock: 1.845GHz coreCount: 20 deviceMemorySize: 7.79GiB deviceMemoryBandwidth: 208.65GiB/s\n",
      "2022-05-04 08:44:05.617348: I tensorflow/stream_executor/platform/default/dso_loader.cc:44] Successfully opened dynamic library libcudart.so.10.1\n",
      "2022-05-04 08:44:05.664923: I tensorflow/stream_executor/platform/default/dso_loader.cc:44] Successfully opened dynamic library libcublas.so.10\n",
      "2022-05-04 08:44:05.692052: I tensorflow/stream_executor/platform/default/dso_loader.cc:44] Successfully opened dynamic library libcufft.so.10\n",
      "2022-05-04 08:44:05.699153: I tensorflow/stream_executor/platform/default/dso_loader.cc:44] Successfully opened dynamic library libcurand.so.10\n",
      "2022-05-04 08:44:05.750207: I tensorflow/stream_executor/platform/default/dso_loader.cc:44] Successfully opened dynamic library libcusolver.so.10\n",
      "2022-05-04 08:44:05.758688: I tensorflow/stream_executor/platform/default/dso_loader.cc:44] Successfully opened dynamic library libcusparse.so.10\n",
      "2022-05-04 08:44:05.851302: I tensorflow/stream_executor/platform/default/dso_loader.cc:44] Successfully opened dynamic library libcudnn.so.7\n",
      "2022-05-04 08:44:05.851720: I tensorflow/stream_executor/cuda/cuda_gpu_executor.cc:981] successful NUMA node read from SysFS had negative value (-1), but there must be at least one NUMA node, so returning NUMA node zero\n",
      "2022-05-04 08:44:05.852213: I tensorflow/stream_executor/cuda/cuda_gpu_executor.cc:981] successful NUMA node read from SysFS had negative value (-1), but there must be at least one NUMA node, so returning NUMA node zero\n",
      "2022-05-04 08:44:05.852438: I tensorflow/core/common_runtime/gpu/gpu_device.cc:1697] Adding visible gpu devices: 0\n",
      "2022-05-04 08:44:05.853781: I tensorflow/core/platform/cpu_feature_guard.cc:142] Your CPU supports instructions that this TensorFlow binary was not compiled to use: SSE4.1 SSE4.2 AVX AVX2 FMA\n",
      "2022-05-04 08:44:05.906907: I tensorflow/core/platform/profile_utils/cpu_utils.cc:94] CPU Frequency: 3686400000 Hz\n",
      "2022-05-04 08:44:05.909717: I tensorflow/compiler/xla/service/service.cc:168] XLA service 0x55fb23b1ab00 initialized for platform Host (this does not guarantee that XLA will be used). Devices:\n",
      "2022-05-04 08:44:05.909800: I tensorflow/compiler/xla/service/service.cc:176]   StreamExecutor device (0): Host, Default Version\n",
      "2022-05-04 08:44:06.015212: I tensorflow/stream_executor/cuda/cuda_gpu_executor.cc:981] successful NUMA node read from SysFS had negative value (-1), but there must be at least one NUMA node, so returning NUMA node zero\n",
      "2022-05-04 08:44:06.015347: I tensorflow/compiler/xla/service/service.cc:168] XLA service 0x55fb23a72230 initialized for platform CUDA (this does not guarantee that XLA will be used). Devices:\n",
      "2022-05-04 08:44:06.015358: I tensorflow/compiler/xla/service/service.cc:176]   StreamExecutor device (0): NVIDIA GeForce RTX 3050, Compute Capability 8.6\n",
      "2022-05-04 08:44:06.015466: I tensorflow/stream_executor/cuda/cuda_gpu_executor.cc:981] successful NUMA node read from SysFS had negative value (-1), but there must be at least one NUMA node, so returning NUMA node zero\n",
      "2022-05-04 08:44:06.015540: I tensorflow/core/common_runtime/gpu/gpu_device.cc:1555] Found device 0 with properties: \n",
      "pciBusID: 0000:01:00.0 name: NVIDIA GeForce RTX 3050 computeCapability: 8.6\n",
      "coreClock: 1.845GHz coreCount: 20 deviceMemorySize: 7.79GiB deviceMemoryBandwidth: 208.65GiB/s\n",
      "2022-05-04 08:44:06.015565: I tensorflow/stream_executor/platform/default/dso_loader.cc:44] Successfully opened dynamic library libcudart.so.10.1\n",
      "2022-05-04 08:44:06.015571: I tensorflow/stream_executor/platform/default/dso_loader.cc:44] Successfully opened dynamic library libcublas.so.10\n",
      "2022-05-04 08:44:06.015576: I tensorflow/stream_executor/platform/default/dso_loader.cc:44] Successfully opened dynamic library libcufft.so.10\n",
      "2022-05-04 08:44:06.015582: I tensorflow/stream_executor/platform/default/dso_loader.cc:44] Successfully opened dynamic library libcurand.so.10\n",
      "2022-05-04 08:44:06.015586: I tensorflow/stream_executor/platform/default/dso_loader.cc:44] Successfully opened dynamic library libcusolver.so.10\n",
      "2022-05-04 08:44:06.015591: I tensorflow/stream_executor/platform/default/dso_loader.cc:44] Successfully opened dynamic library libcusparse.so.10\n",
      "2022-05-04 08:44:06.015595: I tensorflow/stream_executor/platform/default/dso_loader.cc:44] Successfully opened dynamic library libcudnn.so.7\n",
      "2022-05-04 08:44:06.015617: I tensorflow/stream_executor/cuda/cuda_gpu_executor.cc:981] successful NUMA node read from SysFS had negative value (-1), but there must be at least one NUMA node, so returning NUMA node zero\n",
      "2022-05-04 08:44:06.015661: I tensorflow/stream_executor/cuda/cuda_gpu_executor.cc:981] successful NUMA node read from SysFS had negative value (-1), but there must be at least one NUMA node, so returning NUMA node zero\n",
      "2022-05-04 08:44:06.015692: I tensorflow/core/common_runtime/gpu/gpu_device.cc:1697] Adding visible gpu devices: 0\n",
      "2022-05-04 08:44:06.016260: I tensorflow/stream_executor/platform/default/dso_loader.cc:44] Successfully opened dynamic library libcudart.so.10.1\n",
      "2022-05-04 08:44:06.016656: I tensorflow/core/common_runtime/gpu/gpu_device.cc:1096] Device interconnect StreamExecutor with strength 1 edge matrix:\n",
      "2022-05-04 08:44:06.016660: I tensorflow/core/common_runtime/gpu/gpu_device.cc:1102]      0 \n",
      "2022-05-04 08:44:06.016663: I tensorflow/core/common_runtime/gpu/gpu_device.cc:1115] 0:   N \n",
      "2022-05-04 08:44:06.016701: I tensorflow/stream_executor/cuda/cuda_gpu_executor.cc:981] successful NUMA node read from SysFS had negative value (-1), but there must be at least one NUMA node, so returning NUMA node zero\n",
      "2022-05-04 08:44:06.016748: I tensorflow/stream_executor/cuda/cuda_gpu_executor.cc:981] successful NUMA node read from SysFS had negative value (-1), but there must be at least one NUMA node, so returning NUMA node zero\n",
      "2022-05-04 08:44:06.016793: I tensorflow/core/common_runtime/gpu/gpu_device.cc:1241] Created TensorFlow device (/job:localhost/replica:0/task:0/device:GPU:0 with 7099 MB memory) -> physical GPU (device: 0, name: NVIDIA GeForce RTX 3050, pci bus id: 0000:01:00.0, compute capability: 8.6)\n"
     ]
    }
   ],
   "source": [
    "input_shape = (datax_reshape_norm.shape[1],)\n",
    "\n",
    "mlp_model = models.Sequential()\n",
    "mlp_model.add(layers.Dense(units = 800, activation = 'relu', input_shape = input_shape))\n",
    "mlp_model.add(layers.Dense(units = 1100, activation = 'relu'))\n",
    "mlp_model.add(layers.Dense(units = 800, activation = 'relu'))\n",
    "mlp_model.add(layers.Dense(units = 10, activation = 'softmax'))\n",
    "\n",
    "mlp_model.compile(optimizer='Adam', loss = 'categorical_crossentropy', metrics = ['accuracy'])"
   ]
  },
  {
   "cell_type": "code",
   "execution_count": 7,
   "id": "d744ace6",
   "metadata": {},
   "outputs": [
    {
     "name": "stdout",
     "output_type": "stream",
     "text": [
      "Model: \"sequential\"\n",
      "_________________________________________________________________\n",
      "Layer (type)                 Output Shape              Param #   \n",
      "=================================================================\n",
      "dense (Dense)                (None, 800)               628000    \n",
      "_________________________________________________________________\n",
      "dense_1 (Dense)              (None, 1100)              881100    \n",
      "_________________________________________________________________\n",
      "dense_2 (Dense)              (None, 800)               880800    \n",
      "_________________________________________________________________\n",
      "dense_3 (Dense)              (None, 10)                8010      \n",
      "=================================================================\n",
      "Total params: 2,397,910\n",
      "Trainable params: 2,397,910\n",
      "Non-trainable params: 0\n",
      "_________________________________________________________________\n"
     ]
    }
   ],
   "source": [
    "mlp_model.summary()"
   ]
  },
  {
   "cell_type": "code",
   "execution_count": 8,
   "id": "b127bc3a",
   "metadata": {},
   "outputs": [
    {
     "name": "stdout",
     "output_type": "stream",
     "text": [
      "Train on 42000 samples, validate on 18000 samples\n",
      "Epoch 1/10\n"
     ]
    },
    {
     "name": "stderr",
     "output_type": "stream",
     "text": [
      "2022-05-04 08:45:26.557518: I tensorflow/stream_executor/platform/default/dso_loader.cc:44] Successfully opened dynamic library libcublas.so.10\n"
     ]
    },
    {
     "name": "stdout",
     "output_type": "stream",
     "text": [
      "42000/42000 [==============================] - 67s 2ms/sample - loss: 0.2575 - accuracy: 0.9248 - val_loss: 0.1585 - val_accuracy: 0.9572\n",
      "Epoch 2/10\n",
      "42000/42000 [==============================] - 9s 219us/sample - loss: 0.1311 - accuracy: 0.9629 - val_loss: 0.1787 - val_accuracy: 0.9554\n",
      "Epoch 3/10\n",
      "42000/42000 [==============================] - 7s 170us/sample - loss: 0.1026 - accuracy: 0.9713 - val_loss: 0.1583 - val_accuracy: 0.9632\n",
      "Epoch 4/10\n",
      "42000/42000 [==============================] - 8s 199us/sample - loss: 0.0862 - accuracy: 0.9763 - val_loss: 0.1357 - val_accuracy: 0.9699\n",
      "Epoch 5/10\n",
      "42000/42000 [==============================] - 9s 226us/sample - loss: 0.0771 - accuracy: 0.9790 - val_loss: 0.1389 - val_accuracy: 0.9695\n",
      "Epoch 6/10\n",
      "42000/42000 [==============================] - 8s 201us/sample - loss: 0.0631 - accuracy: 0.9830 - val_loss: 0.1794 - val_accuracy: 0.9693\n",
      "Epoch 7/10\n",
      "42000/42000 [==============================] - 8s 187us/sample - loss: 0.0557 - accuracy: 0.9842 - val_loss: 0.1715 - val_accuracy: 0.9751\n",
      "Epoch 8/10\n",
      "42000/42000 [==============================] - 9s 212us/sample - loss: 0.0642 - accuracy: 0.9857 - val_loss: 0.1330 - val_accuracy: 0.9756\n",
      "Epoch 9/10\n",
      "42000/42000 [==============================] - 10s 247us/sample - loss: 0.0539 - accuracy: 0.9873 - val_loss: 0.1564 - val_accuracy: 0.9742\n",
      "Epoch 10/10\n",
      "42000/42000 [==============================] - 8s 180us/sample - loss: 0.0443 - accuracy: 0.9888 - val_loss: 0.1981 - val_accuracy: 0.9739\n"
     ]
    }
   ],
   "source": [
    "history = mlp_model.fit(trnx, trny, validation_data = [tstx, tsty], batch_size = 10, epochs = 10)"
   ]
  },
  {
   "cell_type": "code",
   "execution_count": 9,
   "id": "fd8a3843",
   "metadata": {},
   "outputs": [
    {
     "data": {
      "image/png": "[encoded data removed]",
      "text/plain": [
       "<Figure size 432x288 with 1 Axes>"
      ]
     },
     "metadata": {
      "needs_background": "light"
     },
     "output_type": "display_data"
    }
   ],
   "source": [
    "plt.plot(history.history['accuracy'])\n",
    "plt.plot(history.history['val_accuracy'])\n",
    "plt.title('model accuracy')\n",
    "plt.ylabel('accuracy')\n",
    "plt.xlabel('epoch')\n",
    "plt.legend(['train', 'test'], loc='upper left')\n",
    "plt.show()\n",
    "\n",
    "plt.plot(history.history['loss'])\n",
    "plt.plot(history.history['val_loss'])\n",
    "plt.title('model loss')\n",
    "plt.ylabel('loss')\n",
    "plt.xlabel('epoch')\n",
    "plt.legend(['train', 'test'], loc='upper left')\n",
    "plt.show()\n",
    "\n",
    "print(history.history['val_accuracy'][-1])\n",
    "print(np.max(history.history['val_accuracy']))"
   ]
  }
 ],
 "metadata": {
  "kernelspec": {
   "display_name": "Python 3 (ipykernel)",
   "language": "python",
   "name": "python3"
  },
  "language_info": {
   "codemirror_mode": {
    "name": "ipython",
    "version": 3
   },
   "file_extension": ".py",
   "mimetype": "text/x-python",
   "name": "python",
   "nbconvert_exporter": "python",
   "pygments_lexer": "ipython3",
   "version": "3.7.12"
  }
 },
 "nbformat": 4,
 "nbformat_minor": 5
}
